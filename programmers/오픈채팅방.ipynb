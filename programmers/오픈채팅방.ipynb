{
  "nbformat": 4,
  "nbformat_minor": 0,
  "metadata": {
    "colab": {
      "name": "Programmers_오픈채팅방.ipynb",
      "provenance": [],
      "collapsed_sections": [],
      "authorship_tag": "ABX9TyNjMW16+uNG3R1uaRG1OP63",
      "include_colab_link": true
    },
    "kernelspec": {
      "name": "python3",
      "display_name": "Python 3"
    },
    "language_info": {
      "name": "python"
    }
  },
  "cells": [
    {
      "cell_type": "markdown",
      "metadata": {
        "id": "view-in-github",
        "colab_type": "text"
      },
      "source": [
        "<a href=\"https://colab.research.google.com/github/Juxhee/Algorithm_study/blob/main/Programmers_%EC%98%A4%ED%94%88%EC%B1%84%ED%8C%85%EB%B0%A9.ipynb\" target=\"_parent\"><img src=\"https://colab.research.google.com/assets/colab-badge.svg\" alt=\"Open In Colab\"/></a>"
      ]
    },
    {
      "cell_type": "markdown",
      "source": [
        "## 오픈채팅방\n"
      ],
      "metadata": {
        "id": "A4lQtsbfoqnS"
      }
    },
    {
      "cell_type": "code",
      "source": [
        "def solution(record):\n",
        "    id_dict = {}\n",
        "    id_dict = {}\n",
        "    for i in record:\n",
        "        if i.split()[0] == 'Enter':\n",
        "            id_dict[i.split()[1]] = i.split()[2]\n",
        "        # 이 부분을 따로 for 문 써서 아래에 쓰면, 테스트 케이스 1,2,15,16,17,30,31,32만 통과함\n",
        "        elif i.split()[0] == 'Change':\n",
        "            id_dict[i.split()[1]] = i.split()[2]\n",
        "    answer = []\n",
        "    for i in record:\n",
        "        if i.split()[0] == 'Enter':\n",
        "            answer.append('{}님이 들어왔습니다.'.format(id_dict[i.split()[1]]))\n",
        "        elif i.split()[0] == 'Leave':\n",
        "            answer.append('{}님이 나갔습니다.'.format(id_dict[i.split()[1]]))\n",
        "    return answer"
      ],
      "metadata": {
        "id": "ji8PZT0YbJGa"
      },
      "execution_count": 1,
      "outputs": []
    }
  ]
}
