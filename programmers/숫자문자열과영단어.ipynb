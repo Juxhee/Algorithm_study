{
  "nbformat": 4,
  "nbformat_minor": 0,
  "metadata": {
    "colab": {
      "name": "programmers_숫자문자열과영단어.ipynb",
      "provenance": [],
      "collapsed_sections": [],
      "authorship_tag": "ABX9TyPbyurO0mc43iJ+20VlInjB",
      "include_colab_link": true
    },
    "kernelspec": {
      "name": "python3",
      "display_name": "Python 3"
    },
    "language_info": {
      "name": "python"
    }
  },
  "cells": [
    {
      "cell_type": "markdown",
      "metadata": {
        "id": "view-in-github",
        "colab_type": "text"
      },
      "source": [
        "<a href=\"https://colab.research.google.com/github/Juxhee/Algorithm_study/blob/main/programmers_%EC%88%AB%EC%9E%90%EB%AC%B8%EC%9E%90%EC%97%B4%EA%B3%BC%EC%98%81%EB%8B%A8%EC%96%B4.ipynb\" target=\"_parent\"><img src=\"https://colab.research.google.com/assets/colab-badge.svg\" alt=\"Open In Colab\"/></a>"
      ]
    },
    {
      "cell_type": "markdown",
      "source": [
        "## 숫자 문자열과 영단어\n",
        "- 통과는 했는데, 다음엔 딕셔너리를 활용해보자\n"
      ],
      "metadata": {
        "id": "S4bwiZwWVJL5"
      }
    },
    {
      "cell_type": "code",
      "source": [
        "def solution(s):\n",
        "    if 'zero' in str(s):\n",
        "        s = s.replace('zero','0')\n",
        "    if 'one' in s:\n",
        "        s = s.replace('one','1')\n",
        "    if 'two' in s:\n",
        "        s = s.replace('two','2')\n",
        "    if 'three' in s:\n",
        "        s = s.replace('three','3')\n",
        "    if 'four' in s:\n",
        "        s = s.replace('four','4')\n",
        "    if 'five' in s:\n",
        "        s = s.replace('five','5')\n",
        "    if 'six' in s:\n",
        "        s = s.replace('six','6')\n",
        "    if 'seven' in s:\n",
        "        s = s.replace('seven','7')\n",
        "    if 'eight' in s:\n",
        "        s = s.replace('eight','8')\n",
        "    if 'nine' in s:\n",
        "        s = s.replace('nine','9')\n",
        "    answer = int(s)\n",
        "    return answer"
      ],
      "metadata": {
        "id": "VgfA3mFqlLlq"
      },
      "execution_count": null,
      "outputs": []
    }
  ]
}
