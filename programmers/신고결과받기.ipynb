{
  "nbformat": 4,
  "nbformat_minor": 0,
  "metadata": {
    "colab": {
      "name": "Programmers_신고결과받기.ipynb",
      "provenance": [],
      "collapsed_sections": [],
      "authorship_tag": "ABX9TyOrcyFOmcvu+lbGahJZeH7+",
      "include_colab_link": true
    },
    "kernelspec": {
      "name": "python3",
      "display_name": "Python 3"
    },
    "language_info": {
      "name": "python"
    }
  },
  "cells": [
    {
      "cell_type": "markdown",
      "metadata": {
        "id": "view-in-github",
        "colab_type": "text"
      },
      "source": [
        "<a href=\"https://colab.research.google.com/github/Juxhee/Algorithm_study/blob/main/Programmers_%EC%8B%A0%EA%B3%A0%EA%B2%B0%EA%B3%BC%EB%B0%9B%EA%B8%B0.ipynb\" target=\"_parent\"><img src=\"https://colab.research.google.com/assets/colab-badge.svg\" alt=\"Open In Colab\"/></a>"
      ]
    },
    {
      "cell_type": "markdown",
      "source": [
        "## 신고 결과 받기"
      ],
      "metadata": {
        "id": "DA_uf5RAOoYs"
      }
    },
    {
      "cell_type": "code",
      "source": [
        "# 내 풀이 (29분 소요)\n",
        "def solution(id_list, report, k):\n",
        "\t\t# report의 중복 제거\n",
        "    report = list(set(report))\n",
        "\t\t# 신고 갯수 저장하기 위한 딕셔너리\n",
        "    a = {}\n",
        "    for i in id_list:\n",
        "        a[i] = 0\n",
        "\t\t# answer 결과 위한 딕셔너리\n",
        "    b = a.copy()\n",
        "\t\t# 아이디 별 신고 개수 계산\n",
        "    for i in report:\n",
        "        if i.split(' ')[1] in id_list:\n",
        "            a[i.split(' ')[1]] += 1\n",
        "\t\t# 정지된 아이디 신고한 아이디 저장\n",
        "    for i in report:\n",
        "        if a[i.split(' ')[1]] >= k:\n",
        "            b[i.split(' ')[0]] += 1\n",
        "    answer = []\n",
        "    for i in id_list:\n",
        "        answer.append(b[i])\n",
        "    return answer"
      ],
      "metadata": {
        "id": "DkG6aQnSjSVQ"
      },
      "execution_count": null,
      "outputs": []
    },
    {
      "cell_type": "code",
      "source": [
        ""
      ],
      "metadata": {
        "id": "pxu97FKmjotG"
      },
      "execution_count": null,
      "outputs": []
    }
  ]
}
