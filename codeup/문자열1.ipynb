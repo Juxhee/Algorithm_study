{
  "nbformat": 4,
  "nbformat_minor": 0,
  "metadata": {
    "colab": {
      "name": "codeup_문자열1.ipynb",
      "provenance": [],
      "collapsed_sections": [],
      "authorship_tag": "ABX9TyNsoY8mHwmFsLoge/WBDWMt",
      "include_colab_link": true
    },
    "kernelspec": {
      "name": "python3",
      "display_name": "Python 3"
    },
    "language_info": {
      "name": "python"
    }
  },
  "cells": [
    {
      "cell_type": "markdown",
      "metadata": {
        "id": "view-in-github",
        "colab_type": "text"
      },
      "source": [
        "<a href=\"https://colab.research.google.com/github/Juxhee/Algorithm_study/blob/main/codeup_%EB%AC%B8%EC%9E%90%EC%97%B41.ipynb\" target=\"_parent\"><img src=\"https://colab.research.google.com/assets/colab-badge.svg\" alt=\"Open In Colab\"/></a>"
      ]
    },
    {
      "cell_type": "markdown",
      "source": [
        "## 문자열 출력하기 1"
      ],
      "metadata": {
        "id": "A0To8qZ5mjQl"
      }
    },
    {
      "cell_type": "code",
      "source": [
        "# https://codeup.kr/problem.php?id=1407\n",
        "# point : isspace()\n",
        "eng = list(input())\n",
        "result = []\n",
        "for i in eng:\n",
        "  if i.isspace() == False:\n",
        "    result.append(i)\n",
        "print(''.join(result))"
      ],
      "metadata": {
        "colab": {
          "base_uri": "https://localhost:8080/"
        },
        "id": "hTTQg4O_ah2i",
        "outputId": "55c09772-8f0e-4410-b4bd-61acd32256a5"
      },
      "execution_count": 1,
      "outputs": [
        {
          "output_type": "stream",
          "name": "stdout",
          "text": [
            "dsfs sfasdff\n",
            "dsfssfasdff\n"
          ]
        }
      ]
    },
    {
      "cell_type": "markdown",
      "source": [
        "## 알파벳 대소문자 변환"
      ],
      "metadata": {
        "id": "-I0t3545mv1r"
      }
    },
    {
      "cell_type": "code",
      "source": [
        "# point : islower(), isupper(), lower(), upper()\n",
        "eng = list(input())\n",
        "result = []\n",
        "for i in eng:\n",
        "  if i.isupper() == True:\n",
        "    result.append(i.lower())\n",
        "  elif i.islower() == True:\n",
        "    result.append(i.upper())\n",
        "  else :\n",
        "    result.append(i)\n",
        "print(''.join(result))"
      ],
      "metadata": {
        "id": "VusE8c1IthLD",
        "colab": {
          "base_uri": "https://localhost:8080/"
        },
        "outputId": "277d09c4-3191-4fcf-d6c5-59d97dbb9361"
      },
      "execution_count": 2,
      "outputs": [
        {
          "output_type": "stream",
          "name": "stdout",
          "text": [
            "daEfdsalIPKHKSASKk\n",
            "DAeFDSALipkhksaskK\n"
          ]
        }
      ]
    }
  ]
}
