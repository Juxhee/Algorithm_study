{
  "nbformat": 4,
  "nbformat_minor": 0,
  "metadata": {
    "colab": {
      "name": "Programmers_로또의최고순위와최저순위.ipynb",
      "provenance": [],
      "collapsed_sections": [],
      "authorship_tag": "ABX9TyNDktK/qhtiuya+TPfi8sFy",
      "include_colab_link": true
    },
    "kernelspec": {
      "name": "python3",
      "display_name": "Python 3"
    },
    "language_info": {
      "name": "python"
    }
  },
  "cells": [
    {
      "cell_type": "markdown",
      "metadata": {
        "id": "view-in-github",
        "colab_type": "text"
      },
      "source": [
        "<a href=\"https://colab.research.google.com/github/Juxhee/Algorithm_study/blob/main/Programmers_%EB%A1%9C%EB%98%90%EC%9D%98%EC%B5%9C%EA%B3%A0%EC%88%9C%EC%9C%84%EC%99%80%EC%B5%9C%EC%A0%80%EC%88%9C%EC%9C%84.ipynb\" target=\"_parent\"><img src=\"https://colab.research.google.com/assets/colab-badge.svg\" alt=\"Open In Colab\"/></a>"
      ]
    },
    {
      "cell_type": "markdown",
      "source": [
        "## 로또의 최고 순위와 최저 순위\n",
        "- 통과는 했는데 다른 코드 참조해 볼 필요가 있을 듯"
      ],
      "metadata": {
        "id": "pa_YRXBc18gU"
      }
    },
    {
      "cell_type": "code",
      "source": [
        "def solution(lottos, win_nums):\n",
        "    max_num = 7\n",
        "    min_num = 7\n",
        "    for i in lottos:\n",
        "        if i in win_nums:\n",
        "            max_num = max_num - 1\n",
        "            min_num = min_num -1\n",
        "        elif i == 0 :\n",
        "            max_num = max_num -1\n",
        "    if max_num == 7:\n",
        "        max_num = max_num -1\n",
        "    if min_num == 7:\n",
        "        min_num = min_num - 1\n",
        "    answer = [max_num, min_num]\n",
        "    return answer"
      ],
      "metadata": {
        "id": "iuOJNshflO_5"
      },
      "execution_count": null,
      "outputs": []
    }
  ]
}