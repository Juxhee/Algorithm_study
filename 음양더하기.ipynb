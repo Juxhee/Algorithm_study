{
  "nbformat": 4,
  "nbformat_minor": 0,
  "metadata": {
    "colab": {
      "name": "음양더하기.ipynb",
      "provenance": [],
      "authorship_tag": "ABX9TyPN4a/HfvF2Wa43Q8kk3Xsi",
      "include_colab_link": true
    },
    "kernelspec": {
      "name": "python3",
      "display_name": "Python 3"
    },
    "language_info": {
      "name": "python"
    }
  },
  "cells": [
    {
      "cell_type": "markdown",
      "metadata": {
        "id": "view-in-github",
        "colab_type": "text"
      },
      "source": [
        "<a href=\"https://colab.research.google.com/github/Juxhee/Algorithm_study/blob/main/%EC%9D%8C%EC%96%91%EB%8D%94%ED%95%98%EA%B8%B0.ipynb\" target=\"_parent\"><img src=\"https://colab.research.google.com/assets/colab-badge.svg\" alt=\"Open In Colab\"/></a>"
      ]
    },
    {
      "cell_type": "markdown",
      "source": [
        ""
      ],
      "metadata": {
        "id": "y9betr1dLu4C"
      }
    },
    {
      "cell_type": "code",
      "execution_count": 1,
      "metadata": {
        "id": "KKpce5xNLPn5"
      },
      "outputs": [],
      "source": [
        "def solution(absolutes, signs):\n",
        "    answer = 0 \n",
        "    for i in range(len(absolutes)):\n",
        "        if signs[i] == True:\n",
        "            answer += absolutes[i]\n",
        "        else : \n",
        "            answer -= absolutes[i]\n",
        "    return answer"
      ]
    },
    {
      "cell_type": "code",
      "source": [
        "## 다른 사람 풀이\n",
        "## zip !!!!!!!!!"
      ],
      "metadata": {
        "id": "KtArXvzCLckx"
      },
      "execution_count": 2,
      "outputs": []
    },
    {
      "cell_type": "code",
      "source": [
        "def solution(absolutes, signs):\n",
        "    return sum(absolutes if sign else -absolutes for absolutes, sign in zip(absolutes, signs))"
      ],
      "metadata": {
        "id": "HKzRENtXLXt_"
      },
      "execution_count": 3,
      "outputs": []
    },
    {
      "cell_type": "code",
      "source": [
        ""
      ],
      "metadata": {
        "id": "NVlubvXdLh3d"
      },
      "execution_count": null,
      "outputs": []
    }
  ]
}